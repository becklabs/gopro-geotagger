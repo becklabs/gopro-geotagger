{
 "cells": [
  {
   "cell_type": "code",
   "execution_count": 3,
   "metadata": {},
   "outputs": [],
   "source": [
    "import os\n",
    "import cv2\n",
    "import matplotlib.pyplot as plt\n",
    "import matplotlib.image as mpimg\n",
    "import base64\n",
    "from PIL import Image\n",
    "import io\n",
    "import time\n",
    "import pandas as pd\n",
    "import numpy as np\n",
    "import re\n",
    "import datetime\n",
    "import subprocess\n",
    "from tqdm import tqdm\n",
    "import gpxpy\n",
    "from dateutil.parser import *\n",
    "import pytz\n",
    "import piexif\n",
    "import pyexiv2\n",
    "from GPSPhoto import gpsphoto"
   ]
  },
  {
   "cell_type": "code",
   "execution_count": 1,
   "metadata": {},
   "outputs": [],
   "source": [
    "def gp_extract(filename, gp_timezone = 'US/Eastern'):\n",
    "    \"\"\"Returns a dataframe containing the name of each frame in the gopro video and its respective timestamp\"\"\"\n",
    "    frames = []\n",
    "    path = 'frames/'\n",
    "    video = cv2.VideoCapture(filename)\n",
    "    total = int(video.get(cv2.CAP_PROP_FRAME_COUNT))\n",
    "    #print('Writing '+str(total+' frames from ' + filename + ' to '+ path+ '...')\n",
    "    start=datetime.datetime.now()\n",
    "    cap = cv2.VideoCapture(filename)\n",
    "    i=0\n",
    "    while(cap.isOpened()):\n",
    "        ret, frame = cap.read()\n",
    "        if ret == False:\n",
    "            break\n",
    "        frames.append(str(i)+'.jpg')\n",
    "        cv2.imwrite(path +str(i)+'.jpg',frame)\n",
    "        #print('\\b'*((1+len(str(i))+len(str(total)))*i)+ str(i)+'/'+ str(total))\n",
    "        i+=1\n",
    "    cap.release()\n",
    "    cv2.destroyAllWindows()\n",
    "    delta = datetime.datetime.now()- start\n",
    "    print('Done in '+str(delta))\n",
    "    \n",
    "    #add timestamps to each frame\n",
    "    subprocess.call([r'C:\\Users\\beck\\Documents\\CSCR\\gpmf-extract\\forallTimeExtraction.bat'])\n",
    "    time.sleep(3)\n",
    "    filename.replace('mp4','MP4')\n",
    "    gp_telem = pd.read_csv(filename+'.csv')\n",
    "    i = 0\n",
    "    for date in gp_telem['date']:\n",
    "        gp_telem.loc[i,'date'] = datetime.datetime.strptime(gp_telem['date'][i][:-1],'%Y-%m-%dT%H:%M:%S.%f').replace(tzinfo=pytz.timezone(gp_timezone)) \n",
    "        i+=1\n",
    "    gopro_df = pd.DataFrame()\n",
    "    gopro_df['frame'] = frames[:len(gp_telem['date'])]\n",
    "    gopro_df['timestamp'] = gp_telem['date']\n",
    "    return gopro_df\n",
    "#gp_extract = gp_extract('GH010001.MP4')"
   ]
  },
  {
   "cell_type": "code",
   "execution_count": 8,
   "metadata": {},
   "outputs": [],
   "source": [
    "def track_extract(gpx_filename, gp_timezone = 'US/Eastern'):\n",
    "    \"\"\"Returns a dataframe containing the telemetry collected from the gpx file\"\"\"\n",
    "    print('Parsing '+ gpx_filename + '...')\n",
    "    begin_time = datetime.datetime.now()\n",
    "    points = list()\n",
    "    with open('tracks/'+ gpx_filename,'r') as gpxfile:\n",
    "        gpx = gpxpy.parse(gpxfile)\n",
    "        for track in gpx.tracks:\n",
    "            for segment in track.segments:\n",
    "                for point in segment.points:\n",
    "                    dict = {'timestamp': point.time,\n",
    "                            'latitude': point.latitude,\n",
    "                            'longitude': point.longitude,\n",
    "                            'elevation': point.elevation\n",
    "                                }\n",
    "                    points.append(dict)\n",
    "    gps_telem = pd.DataFrame.from_dict(points)\n",
    "    i = 0\n",
    "    for timestamp in gps_telem['timestamp']:\n",
    "        gps_telem.loc[i,'timestamp'] = gps_telem.loc[i,'timestamp'].to_pydatetime().replace(tzinfo=pytz.UTC).astimezone(pytz.timezone(gp_timezone))\n",
    "        i+=1\n",
    "    print('Done in '+ str(datetime.datetime.now() - begin_time))\n",
    "    return gps_telem\n",
    "#track_extract(gpx_filename = 'track-71520-23237pm.gpx')"
   ]
  },
  {
   "cell_type": "code",
   "execution_count": 7,
   "metadata": {},
   "outputs": [],
   "source": [
    "def concatenate(gopro_filename, gpx_filename, gp_timezone = 'US/Eastern'):\n",
    "    track_ex = track_extract(gpx_filename, gp_timezone)\n",
    "    gp_ex = gp_extract(gopro_filename)\n",
    "    concatenate_df = track_ex\n",
    "    i = 0\n",
    "    for gpstime in track_ex['timestamp']:\n",
    "        timedeltas = []\n",
    "        for gptime in gp_ex['timestamp']:\n",
    "            delta = gpstime-gptime\n",
    "            timedeltas.append(delta.total_seconds())\n",
    "        ix = gp_ex.loc[timedeltas.index(min(timedeltas)), 'frame']\n",
    "        concatenate_df.loc[i, 'frame'] = ix\n",
    "        i += 1\n",
    "    return concatenate_df"
   ]
  },
  {
   "cell_type": "code",
   "execution_count": 9,
   "metadata": {},
   "outputs": [],
   "source": [
    "def geotag(df):\n",
    "    print('Geotagging '+ str(len(concatenate_df['frame'])) + ' frames to path:/geotagged/')\n",
    "    start=datetime.datetime.now()\n",
    "    i = 0\n",
    "    for frame in concatenate_df['frame']:\n",
    "        photo = gpsphoto.GPSPhoto('frames/'+frame)\n",
    "        info = gpsphoto.GPSInfo((concatenate_df.loc[i, 'latitude'], \n",
    "                                 concatenate_df.loc[i, 'longitude']), \n",
    "                                alt=int(concatenate_df.loc[i, 'elevation']), \n",
    "                                timeStamp=concatenate_df.loc[i, 'timestamp'])\n",
    "        photo.modGPSData(info, 'geotagged/'+ frame)\n",
    "        i+=1\n",
    "    delta = datetime.datetime.now()- start\n",
    "    print('Done in '+str(delta))"
   ]
  },
  {
   "cell_type": "code",
   "execution_count": 15,
   "metadata": {
    "scrolled": true
   },
   "outputs": [
    {
     "name": "stdout",
     "output_type": "stream",
     "text": [
      "Parsing track-71520-23237pm.gpx...\n",
      "Done in 0:00:00.014518\n"
     ]
    },
    {
     "ename": "TypeError",
     "evalue": "'DataFrame' object is not callable",
     "output_type": "error",
     "traceback": [
      "\u001b[1;31m---------------------------------------------------------------------------\u001b[0m",
      "\u001b[1;31mTypeError\u001b[0m                                 Traceback (most recent call last)",
      "\u001b[1;32m<ipython-input-15-2fc1eec43bec>\u001b[0m in \u001b[0;36m<module>\u001b[1;34m\u001b[0m\n\u001b[1;32m----> 1\u001b[1;33m \u001b[0mconcatenate_df\u001b[0m \u001b[1;33m=\u001b[0m \u001b[0mconcatenate\u001b[0m\u001b[1;33m(\u001b[0m\u001b[1;34m'GH010001.MP4'\u001b[0m\u001b[1;33m,\u001b[0m\u001b[1;34m'track-71520-23237pm.gpx'\u001b[0m\u001b[1;33m)\u001b[0m\u001b[1;33m\u001b[0m\u001b[1;33m\u001b[0m\u001b[0m\n\u001b[0m\u001b[0;32m      2\u001b[0m \u001b[0mgeotag\u001b[0m\u001b[1;33m(\u001b[0m\u001b[0mconcatenate_df\u001b[0m\u001b[1;33m)\u001b[0m\u001b[1;33m\u001b[0m\u001b[1;33m\u001b[0m\u001b[0m\n",
      "\u001b[1;32m<ipython-input-13-9f76af0c70b0>\u001b[0m in \u001b[0;36mconcatenate\u001b[1;34m(gopro_filename, gpx_filename, gp_timezone)\u001b[0m\n\u001b[0;32m      1\u001b[0m \u001b[1;32mdef\u001b[0m \u001b[0mconcatenate\u001b[0m\u001b[1;33m(\u001b[0m\u001b[0mgopro_filename\u001b[0m\u001b[1;33m,\u001b[0m \u001b[0mgpx_filename\u001b[0m\u001b[1;33m,\u001b[0m \u001b[0mgp_timezone\u001b[0m \u001b[1;33m=\u001b[0m \u001b[1;34m'US/Eastern'\u001b[0m\u001b[1;33m)\u001b[0m\u001b[1;33m:\u001b[0m\u001b[1;33m\u001b[0m\u001b[1;33m\u001b[0m\u001b[0m\n\u001b[0;32m      2\u001b[0m     \u001b[0mtrack_ex\u001b[0m \u001b[1;33m=\u001b[0m \u001b[0mtrack_extract\u001b[0m\u001b[1;33m(\u001b[0m\u001b[0mgpx_filename\u001b[0m\u001b[1;33m,\u001b[0m \u001b[0mgp_timezone\u001b[0m\u001b[1;33m)\u001b[0m\u001b[1;33m\u001b[0m\u001b[1;33m\u001b[0m\u001b[0m\n\u001b[1;32m----> 3\u001b[1;33m     \u001b[0mgp_ex\u001b[0m \u001b[1;33m=\u001b[0m \u001b[0mgp_extract\u001b[0m\u001b[1;33m(\u001b[0m\u001b[0mgopro_filename\u001b[0m\u001b[1;33m)\u001b[0m\u001b[1;33m\u001b[0m\u001b[1;33m\u001b[0m\u001b[0m\n\u001b[0m\u001b[0;32m      4\u001b[0m     \u001b[0mconcatenate_df\u001b[0m \u001b[1;33m=\u001b[0m \u001b[0mtrack_ex\u001b[0m\u001b[1;33m\u001b[0m\u001b[1;33m\u001b[0m\u001b[0m\n\u001b[0;32m      5\u001b[0m     \u001b[0mi\u001b[0m \u001b[1;33m=\u001b[0m \u001b[1;36m0\u001b[0m\u001b[1;33m\u001b[0m\u001b[1;33m\u001b[0m\u001b[0m\n",
      "\u001b[1;31mTypeError\u001b[0m: 'DataFrame' object is not callable"
     ]
    }
   ],
   "source": [
    "concatenate_df = concatenate('GH010001.MP4','track-71520-23237pm.gpx')\n",
    "geotag(concatenate_df)"
   ]
  },
  {
   "cell_type": "code",
   "execution_count": null,
   "metadata": {},
   "outputs": [],
   "source": []
  }
 ],
 "metadata": {
  "kernelspec": {
   "display_name": "Python 3",
   "language": "python",
   "name": "python3"
  },
  "language_info": {
   "codemirror_mode": {
    "name": "ipython",
    "version": 3
   },
   "file_extension": ".py",
   "mimetype": "text/x-python",
   "name": "python",
   "nbconvert_exporter": "python",
   "pygments_lexer": "ipython3",
   "version": "3.6.9"
  }
 },
 "nbformat": 4,
 "nbformat_minor": 2
}
